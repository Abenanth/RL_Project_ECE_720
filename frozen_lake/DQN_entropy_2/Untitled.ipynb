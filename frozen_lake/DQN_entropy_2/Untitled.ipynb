{
 "cells": [
  {
   "cell_type": "code",
   "execution_count": 1,
   "id": "ae3614b4-ca36-4c39-a7f9-be087b2326b2",
   "metadata": {},
   "outputs": [
    {
     "name": "stderr",
     "output_type": "stream",
     "text": [
      "Training DQN: 100%|█████████████████████████████████████████████████████████████████| 50/50 [8:55:50<00:00, 643.01s/it]\n",
      "C:\\Users\\prabh\\AppData\\Roaming\\Python\\Python312\\site-packages\\stable_baselines3\\common\\evaluation.py:67: UserWarning: Evaluation environment is not wrapped with a ``Monitor`` wrapper. This may result in reporting modified episode lengths and rewards, if other wrappers happen to modify these. Consider wrapping environment first with ``Monitor`` wrapper.\n",
      "  warnings.warn(\n"
     ]
    },
    {
     "name": "stdout",
     "output_type": "stream",
     "text": [
      "Mean reward: 0.00 ± 0.00\n"
     ]
    }
   ],
   "source": [
    "import gymnasium as gym\n",
    "from stable_baselines3 import DQN\n",
    "from stable_baselines3.common.evaluation import evaluate_policy\n",
    "from tqdm import trange\n",
    "import os\n",
    "\n",
    "\n",
    "SEED = 42\n",
    "log_dir = \"./dqn_frozenlake_tensorboard/\"\n",
    "os.makedirs(log_dir, exist_ok=True)\n",
    "env = gym.make(\"FrozenLake-v1\", is_slippery=True, render_mode=\"rgb_array\")\n",
    "env.reset(seed=SEED)\n",
    "env.action_space.seed(SEED)\n",
    "\n",
    "model = DQN(\n",
    "    \"MlpPolicy\",\n",
    "    env,\n",
    "    seed=SEED,\n",
    "    verbose=0,\n",
    "    learning_rate=0.005,\n",
    "    gamma=0.99,\n",
    "    exploration_fraction=0.1,\n",
    "    exploration_final_eps=0.05,\n",
    "    tensorboard_log=log_dir,\n",
    "    buffer_size=100_000,\n",
    "    learning_starts=10_000,\n",
    "    train_freq=4,\n",
    "    target_update_interval=1_000,\n",
    "    device = \"cuda\"\n",
    ")\n",
    "\n",
    "total_timesteps = 5_000_000\n",
    "chunk_size = 100_000\n",
    "\n",
    "with trange(0, total_timesteps, chunk_size, desc=\"Training DQN\") as pbar:\n",
    "    for _ in pbar:\n",
    "        model.learn(total_timesteps=chunk_size, reset_num_timesteps=False, tb_log_name=\"DQN_FrozenLake\")\n",
    "\n",
    "model.save(\"dqn_frozenlake_sb3\")\n",
    "\n",
    "model = DQN.load(\"dqn_frozenlake_sb3\", env=env)\n",
    "mean_reward, std_reward = evaluate_policy(model, env, n_eval_episodes=5, render=True, deterministic=True)\n",
    "print(f\"Mean reward: {mean_reward:.2f} ± {std_reward:.2f}\")\n"
   ]
  },
  {
   "cell_type": "code",
   "execution_count": 4,
   "id": "794ca780-e0b8-4cea-848f-a01478b05ca0",
   "metadata": {},
   "outputs": [
    {
     "name": "stdout",
     "output_type": "stream",
     "text": [
      "\n",
      "Overall average across seeds: Mean reward = 0.00 ± 0.00\n"
     ]
    }
   ],
   "source": [
    "import gymnasium as gym\n",
    "from stable_baselines3 import DQN\n",
    "from stable_baselines3.common.evaluation import evaluate_policy\n",
    "import numpy as np\n",
    "\n",
    "seeds = [0, 1, 10, 42, 100, 123, 999]\n",
    "n_eval_episodes = 10\n",
    "\n",
    "env = gym.make(\"FrozenLake-v1\", is_slippery=True, render_mode=\"rgb_array\")\n",
    "model = DQN.load(\"dqn_frozenlake_sb3\", env=env)\n",
    "\n",
    "mean_rewards = []\n",
    "std_rewards = []\n",
    "\n",
    "for seed in seeds:\n",
    "    env.reset(seed=seed)\n",
    "    env.action_space.seed(seed)\n",
    "    mean_reward, std_reward = evaluate_policy(\n",
    "        model, env, n_eval_episodes=n_eval_episodes, render=False, deterministic=True\n",
    "    )\n",
    "    mean_rewards.append(mean_reward)\n",
    "    std_rewards.append(std_reward)\n",
    "\n",
    "overall_mean = np.mean(mean_rewards)\n",
    "overall_std = np.mean(std_rewards)\n",
    "\n",
    "print(f\"\\nOverall average across seeds: Mean reward = {overall_mean:.2f} ± {overall_std:.2f}\")\n"
   ]
  },
  {
   "cell_type": "code",
   "execution_count": null,
   "id": "59fbb3c7-fd1d-4c4f-972e-e52afbb37f13",
   "metadata": {},
   "outputs": [],
   "source": []
  }
 ],
 "metadata": {
  "kernelspec": {
   "display_name": "Python 3 (ipykernel)",
   "language": "python",
   "name": "python3"
  },
  "language_info": {
   "codemirror_mode": {
    "name": "ipython",
    "version": 3
   },
   "file_extension": ".py",
   "mimetype": "text/x-python",
   "name": "python",
   "nbconvert_exporter": "python",
   "pygments_lexer": "ipython3",
   "version": "3.12.7"
  }
 },
 "nbformat": 4,
 "nbformat_minor": 5
}
