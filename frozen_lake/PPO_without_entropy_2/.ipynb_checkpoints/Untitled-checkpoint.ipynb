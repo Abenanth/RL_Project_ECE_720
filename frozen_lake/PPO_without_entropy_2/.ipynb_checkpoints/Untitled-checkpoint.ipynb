{
 "cells": [
  {
   "cell_type": "code",
   "execution_count": 1,
   "id": "99ec7581-9e87-42a7-b341-de49bcb96ab4",
   "metadata": {},
   "outputs": [],
   "source": [
    "import gymnasium as gym\n",
    "from stable_baselines3 import PPO\n",
    "from stable_baselines3.common.evaluation import evaluate_policy\n",
    "from tqdm import trange\n",
    "import os"
   ]
  },
  {
   "cell_type": "code",
   "execution_count": 2,
   "id": "2c1b226a-e520-4a60-a570-6221db095151",
   "metadata": {},
   "outputs": [
    {
     "data": {
      "text/plain": [
       "42"
      ]
     },
     "execution_count": 2,
     "metadata": {},
     "output_type": "execute_result"
    }
   ],
   "source": [
    "SEED = 42\n",
    "log_dir = \"./ppo_frozenlake_tensorboard/\"\n",
    "os.makedirs(log_dir, exist_ok=True)\n",
    "env = gym.make(\"FrozenLake-v1\", is_slippery=True, render_mode=\"rgb_array\")\n",
    "env.reset(seed=SEED)\n",
    "env.action_space.seed(SEED)"
   ]
  },
  {
   "cell_type": "code",
   "execution_count": 3,
   "id": "0011c479-175d-4078-be31-2817ac4740b3",
   "metadata": {},
   "outputs": [],
   "source": [
    "model = PPO(\n",
    "    \"MlpPolicy\",\n",
    "    env,\n",
    "    seed=SEED,\n",
    "    verbose=0,  \n",
    "    learning_rate=0.0001,\n",
    "    gamma=0.99,\n",
    "    ent_coef=0,\n",
    "    tensorboard_log=log_dir\n",
    ")"
   ]
  },
  {
   "cell_type": "code",
   "execution_count": 4,
   "id": "2b7029c6-a75d-4457-ac3e-f9e9f92097b3",
   "metadata": {},
   "outputs": [
    {
     "name": "stderr",
     "output_type": "stream",
     "text": [
      "Training PPO: 100%|██████████████████████████████████████████████████████████████| 100/100 [13:19:18<00:00, 479.58s/it]\n",
      "C:\\Users\\prabh\\AppData\\Roaming\\Python\\Python312\\site-packages\\stable_baselines3\\common\\evaluation.py:67: UserWarning: Evaluation environment is not wrapped with a ``Monitor`` wrapper. This may result in reporting modified episode lengths and rewards, if other wrappers happen to modify these. Consider wrapping environment first with ``Monitor`` wrapper.\n",
      "  warnings.warn(\n"
     ]
    },
    {
     "name": "stdout",
     "output_type": "stream",
     "text": [
      "Mean reward: 0.60 ± 0.49\n"
     ]
    }
   ],
   "source": [
    "total_timesteps = 10_000_000\n",
    "chunk_size = 100_000\n",
    "\n",
    "with trange(0, total_timesteps, chunk_size, desc=\"Training PPO\") as pbar:\n",
    "    for _ in pbar:\n",
    "        model.learn(total_timesteps=chunk_size, reset_num_timesteps=False, tb_log_name=\"PPO_FrozenLake_Entropy\")\n",
    "\n",
    "model.save(\"ppo_frozenlake_sb3\")\n",
    "\n",
    "model = PPO.load(\"ppo_frozenlake_sb3\", env=env)\n",
    "mean_reward, std_reward = evaluate_policy(model, env, n_eval_episodes=5, render=True, deterministic=True)\n",
    "print(f\"Mean reward: {mean_reward:.2f} ± {std_reward:.2f}\")\n"
   ]
  },
  {
   "cell_type": "code",
   "execution_count": 1,
   "id": "633537e8-46c3-4a57-a021-d03ff3064b75",
   "metadata": {},
   "outputs": [
    {
     "name": "stderr",
     "output_type": "stream",
     "text": [
      "E:\\Anaconda\\Lib\\site-packages\\stable_baselines3\\common\\on_policy_algorithm.py:150: UserWarning: You are trying to run PPO on the GPU, but it is primarily intended to run on the CPU when not using a CNN policy (you are using ActorCriticPolicy which should be a MlpPolicy). See https://github.com/DLR-RM/stable-baselines3/issues/1245 for more info. You can pass `device='cpu'` or `export CUDA_VISIBLE_DEVICES=` to force using the CPU.Note: The model will train, but the GPU utilization will be poor and the training might take longer than on CPU.\n",
      "  warnings.warn(\n",
      "E:\\Anaconda\\Lib\\site-packages\\stable_baselines3\\common\\evaluation.py:67: UserWarning: Evaluation environment is not wrapped with a ``Monitor`` wrapper. This may result in reporting modified episode lengths and rewards, if other wrappers happen to modify these. Consider wrapping environment first with ``Monitor`` wrapper.\n",
      "  warnings.warn(\n"
     ]
    },
    {
     "name": "stdout",
     "output_type": "stream",
     "text": [
      "Seed 0: Mean reward = 0.50 ± 0.50\n",
      "Seed 1: Mean reward = 0.80 ± 0.40\n",
      "Seed 10: Mean reward = 0.70 ± 0.46\n",
      "Seed 42: Mean reward = 0.80 ± 0.40\n",
      "Seed 100: Mean reward = 0.40 ± 0.49\n",
      "Seed 123: Mean reward = 0.60 ± 0.49\n",
      "Seed 999: Mean reward = 0.50 ± 0.50\n",
      "\n",
      "Overall average across seeds: Mean reward = 0.61 ± 0.46\n"
     ]
    }
   ],
   "source": [
    "import gymnasium as gym\n",
    "from stable_baselines3 import PPO\n",
    "from stable_baselines3.common.evaluation import evaluate_policy\n",
    "import numpy as np\n",
    "\n",
    "seeds = [0, 1, 10, 42, 100, 123, 999]\n",
    "n_eval_episodes = 10\n",
    "\n",
    "env = gym.make(\"FrozenLake-v1\", is_slippery=True, render_mode=\"rgb_array\")\n",
    "model = PPO.load(\"ppo_frozenlake_sb3\", env=env)\n",
    "\n",
    "results = []\n",
    "\n",
    "for seed in seeds:\n",
    "    env.reset(seed=seed)\n",
    "    env.action_space.seed(seed)\n",
    "    mean_reward, std_reward = evaluate_policy(model, env, n_eval_episodes=n_eval_episodes, render=False, deterministic=True)\n",
    "    results.append((mean_reward, std_reward))\n",
    "    print(f\"Seed {seed}: Mean reward = {mean_reward:.2f} ± {std_reward:.2f}\")\n",
    "\n",
    "mean_rewards = [r[0] for r in results]\n",
    "std_rewards = [r[1] for r in results]\n",
    "overall_mean = np.mean(mean_rewards)\n",
    "overall_std = np.mean(std_rewards)\n",
    "\n",
    "print(f\"\\nOverall average across seeds: Mean reward = {overall_mean:.2f} ± {overall_std:.2f}\")\n"
   ]
  },
  {
   "cell_type": "code",
   "execution_count": null,
   "id": "2db42a2b-7b34-4b80-be10-f102a61f816c",
   "metadata": {},
   "outputs": [],
   "source": []
  }
 ],
 "metadata": {
  "kernelspec": {
   "display_name": "Python 3 (ipykernel)",
   "language": "python",
   "name": "python3"
  },
  "language_info": {
   "codemirror_mode": {
    "name": "ipython",
    "version": 3
   },
   "file_extension": ".py",
   "mimetype": "text/x-python",
   "name": "python",
   "nbconvert_exporter": "python",
   "pygments_lexer": "ipython3",
   "version": "3.12.7"
  }
 },
 "nbformat": 4,
 "nbformat_minor": 5
}
