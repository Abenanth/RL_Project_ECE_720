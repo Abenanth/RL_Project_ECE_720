{
 "cells": [
  {
   "cell_type": "code",
   "execution_count": null,
   "id": "093ff9c8-01f2-43a7-9113-428360543564",
   "metadata": {},
   "outputs": [
    {
     "name": "stderr",
     "output_type": "stream",
     "text": [
      "Training PPO on CarRacing:  84%|█████████████████████████████████████████▏       | 84/100 [5:35:28<1:09:00, 258.80s/it]"
     ]
    }
   ],
   "source": [
    "import gymnasium as gym\n",
    "from stable_baselines3 import PPO\n",
    "from stable_baselines3.common.evaluation import evaluate_policy\n",
    "from stable_baselines3.common.vec_env import DummyVecEnv, VecTransposeImage\n",
    "from stable_baselines3.common.monitor import Monitor\n",
    "from tqdm import trange\n",
    "import os\n",
    "\n",
    "SEED = 42\n",
    "\n",
    "log_dir = \"./ppo_carracing_tensorboard/\"\n",
    "os.makedirs(log_dir, exist_ok=True)\n",
    "\n",
    "def make_env():\n",
    "    env = gym.make(\"CarRacing-v3\", render_mode=\"rgb_array\", continuous=True)\n",
    "    env = Monitor(env)  \n",
    "    env.reset(seed=SEED)\n",
    "    env.action_space.seed(SEED)\n",
    "    return env\n",
    "\n",
    "env = DummyVecEnv([make_env])\n",
    "env = VecTransposeImage(env)  \n",
    "\n",
    "model = PPO(\n",
    "    \"CnnPolicy\",\n",
    "    env,\n",
    "    seed=SEED,\n",
    "    verbose=0,  \n",
    "    learning_rate=0.001,\n",
    "    gamma=0.99,\n",
    "    ent_coef=0.01,\n",
    "    tensorboard_log=log_dir\n",
    ")\n",
    "\n",
    "total_timesteps = 1_000_000\n",
    "chunk_size = 10_000\n",
    "\n",
    "with trange(0, total_timesteps, chunk_size, desc=\"Training PPO on CarRacing\") as pbar:\n",
    "    for _ in pbar:\n",
    "        model.learn(\n",
    "            total_timesteps=chunk_size,\n",
    "            reset_num_timesteps=False,\n",
    "            tb_log_name=\"PPO_CarRacing_Entropy\",\n",
    "            log_interval=1 \n",
    "        )\n",
    "\n",
    "model.save(\"ppo_carracing_sb3\")\n",
    "model = PPO.load(\"ppo_carracing_sb3\", env=env)\n",
    "mean_reward, std_reward = evaluate_policy(model, env, n_eval_episodes=5, render=True, deterministic=True)\n",
    "print(f\"Mean reward: {mean_reward:.2f} ± {std_reward:.2f}\")\n"
   ]
  },
  {
   "cell_type": "code",
   "execution_count": null,
   "id": "49157898-be1e-4f8c-b8ee-2ad334264e50",
   "metadata": {},
   "outputs": [],
   "source": []
  }
 ],
 "metadata": {
  "kernelspec": {
   "display_name": "Python 3 (ipykernel)",
   "language": "python",
   "name": "python3"
  },
  "language_info": {
   "codemirror_mode": {
    "name": "ipython",
    "version": 3
   },
   "file_extension": ".py",
   "mimetype": "text/x-python",
   "name": "python",
   "nbconvert_exporter": "python",
   "pygments_lexer": "ipython3",
   "version": "3.12.7"
  }
 },
 "nbformat": 4,
 "nbformat_minor": 5
}
