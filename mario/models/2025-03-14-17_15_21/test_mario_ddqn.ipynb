{
 "cells": [
  {
   "cell_type": "code",
   "execution_count": 1,
   "id": "95924e53-1a33-45f8-bd92-e124ee0bf3bd",
   "metadata": {},
   "outputs": [],
   "source": [
    "import torch\n",
    "import gym_super_mario_bros\n",
    "from gym_super_mario_bros.actions import RIGHT_ONLY\n",
    "from agent import Agent\n",
    "from nes_py.wrappers import JoypadSpace\n",
    "from wrappers import apply_wrappers\n",
    "import os\n",
    "import time\n",
    "# from utils import get_current_date_time_string  # if you use this in naming the model\n"
   ]
  },
  {
   "cell_type": "code",
   "execution_count": 5,
   "id": "d393cff2-775a-4bd6-936f-707054b4ea17",
   "metadata": {},
   "outputs": [],
   "source": [
    "\n",
    "# # Update these variables with the appropriate folder and checkpoint file names.\n",
    "# # folder_name = \"your_model_folder\"  # e.g., \"2025-03-14_15-30-00\"\n",
    "# # ckpt_name = \"model_5000_iter.pt\"   # update to the actual checkpoint file you want to test\n",
    "# # model_path = os.path.join(\"models\", folder_name, ckpt_name)\n",
    "# model_path = \"model_15000_iter.pt\"\n",
    "\n",
    "# if torch.cuda.is_available():\n",
    "#     print(\"Using CUDA device:\", torch.cuda.get_device_name(0))\n",
    "# else:\n",
    "#     print(\"CUDA is not available\")\n",
    "\n",
    "# ENV_NAME = 'SuperMarioBros-1-1-v0'\n",
    "# DISPLAY = True\n",
    "# NUM_OF_EPISODES = 10  # Number of test episodes\n",
    "\n",
    "# # Create the environment with human rendering if DISPLAY is True.\n",
    "# env = gym_super_mario_bros.make(\n",
    "#     ENV_NAME, \n",
    "#     render_mode='human' if DISPLAY else 'rgb',\n",
    "#     apply_api_compatibility=True\n",
    "# )\n",
    "# env = JoypadSpace(env, RIGHT_ONLY)\n",
    "# env = apply_wrappers(env)\n",
    "\n",
    "# # Instantiate agent and load the trained model.\n",
    "# agent = Agent(input_dims=env.observation_space.shape, num_actions=env.action_space.n)\n",
    "# agent.load_model(model_path)\n",
    "\n",
    "# # Set agent parameters for testing (disable exploration).\n",
    "# agent.epsilon = 0.2  # Always choose the best action.\n",
    "# agent.eps_min = 0\n",
    "# agent.eps_decay = 0\n",
    "\n",
    "# for episode in range(NUM_OF_EPISODES):\n",
    "#     print(f\"Episode: {episode+1}\")\n",
    "#     state, _ = env.reset()\n",
    "#     done = False\n",
    "#     total_reward = 0\n",
    "\n",
    "#     while not done:\n",
    "#         # Use the agent's policy to choose the best action.\n",
    "#         action = agent.choose_action(state)\n",
    "#         new_state, reward, done, truncated, info = env.step(action)\n",
    "#         total_reward += reward\n",
    "#         state = new_state\n",
    "\n",
    "#     print(f\"Total reward for episode {episode+1}: {total_reward}\")\n",
    "\n",
    "\n"
   ]
  },
  {
   "cell_type": "code",
   "execution_count": 2,
   "id": "d2f47b7f-36fb-457d-afc2-9d6d797ad7f4",
   "metadata": {},
   "outputs": [
    {
     "name": "stdout",
     "output_type": "stream",
     "text": [
      "Using CUDA device: NVIDIA GeForce RTX 4060 Laptop GPU\n"
     ]
    },
    {
     "name": "stderr",
     "output_type": "stream",
     "text": [
      "C:\\Users\\kalya\\Desktop\\Desktop\\RF_Project\\gta\\Lib\\site-packages\\gym\\envs\\registration.py:555: UserWarning: \u001b[33mWARN: The environment SuperMarioBros-1-1-v0 is out of date. You should consider upgrading to version `v3`.\u001b[0m\n",
      "  logger.warn(\n",
      "C:\\Users\\kalya\\Desktop\\Desktop\\RF_Project\\gta\\Lib\\site-packages\\gym\\envs\\registration.py:627: UserWarning: \u001b[33mWARN: The environment creator metadata doesn't include `render_modes`, contains: ['render.modes', 'video.frames_per_second']\u001b[0m\n",
      "  logger.warn(\n"
     ]
    },
    {
     "name": "stdout",
     "output_type": "stream",
     "text": [
      "Episode: 1\n"
     ]
    },
    {
     "name": "stderr",
     "output_type": "stream",
     "text": [
      "C:\\Users\\kalya\\Desktop\\Desktop\\RF_Project\\gta\\Lib\\site-packages\\gym\\utils\\passive_env_checker.py:233: DeprecationWarning: `np.bool8` is a deprecated alias for `np.bool_`.  (Deprecated NumPy 1.24)\n",
      "  if not isinstance(terminated, (bool, np.bool8)):\n"
     ]
    },
    {
     "name": "stdout",
     "output_type": "stream",
     "text": [
      "Total reward for episode 1: 1822.0\n",
      "Episode: 2\n",
      "Total reward for episode 2: 776.0\n",
      "Episode: 3\n",
      "Total reward for episode 3: 1864.0\n",
      "Episode: 4\n",
      "Total reward for episode 4: 2316.0\n",
      "Episode: 5\n",
      "Total reward for episode 5: 1425.0\n",
      "Episode: 6\n",
      "Total reward for episode 6: 1351.0\n",
      "Episode: 7\n",
      "Total reward for episode 7: 2867.0\n",
      "Episode: 8\n",
      "Total reward for episode 8: 2982.0\n",
      "Episode: 9\n",
      "Total reward for episode 9: 1891.0\n",
      "Episode: 10\n",
      "Total reward for episode 10: 611.0\n",
      "Episode: 11\n",
      "Total reward for episode 11: 2297.0\n",
      "Episode: 12\n",
      "Total reward for episode 12: 1682.0\n",
      "Episode: 13\n",
      "Total reward for episode 13: 654.0\n",
      "Episode: 14\n",
      "Total reward for episode 14: 2309.0\n",
      "Episode: 15\n",
      "Total reward for episode 15: 1296.0\n"
     ]
    }
   ],
   "source": [
    "\n",
    "model_path = \"model_50000_iter.pt\"\n",
    "\n",
    "if torch.cuda.is_available():\n",
    "    print(\"Using CUDA device:\", torch.cuda.get_device_name(0))\n",
    "else:\n",
    "    print(\"CUDA is not available\")\n",
    "\n",
    "ENV_NAME = 'SuperMarioBros-1-1-v0'\n",
    "DISPLAY = True\n",
    "NUM_OF_EPISODES = 15  # Number of test episodes\n",
    "\n",
    "# Create the environment with human rendering if DISPLAY is True.\n",
    "env = gym_super_mario_bros.make(\n",
    "    ENV_NAME, \n",
    "    render_mode='human' if DISPLAY else 'rgb',\n",
    "    apply_api_compatibility=True\n",
    ")\n",
    "env = JoypadSpace(env, RIGHT_ONLY)\n",
    "env = apply_wrappers(env)\n",
    "\n",
    "# Instantiate agent and load the trained model.\n",
    "agent = Agent(input_dims=env.observation_space.shape, num_actions=env.action_space.n)\n",
    "agent.load_model(model_path)\n",
    "\n",
    "# Enable exploration during testing by setting a non-zero epsilon.\n",
    "agent.epsilon = 0.1    # Adjust this value to control exploration\n",
    "agent.eps_min = 0\n",
    "agent.eps_decay = 0\n",
    "\n",
    "# Slow down the execution for visualization (in seconds per step)\n",
    "STEP_DELAY = 0.04  # Increase for slower execution\n",
    "\n",
    "for episode in range(NUM_OF_EPISODES):\n",
    "    print(f\"Episode: {episode+1}\")\n",
    "    state, _ = env.reset()\n",
    "    done = False\n",
    "    total_reward = 0\n",
    "\n",
    "    while not done:\n",
    "        # Choose an action using the agent's policy\n",
    "        action = agent.choose_action(state)\n",
    "        new_state, reward, done, truncated, info = env.step(action)\n",
    "        total_reward += reward\n",
    "        state = new_state\n",
    "        \n",
    "        # Slow down for human visualization\n",
    "        time.sleep(STEP_DELAY)\n",
    "\n",
    "    print(f\"Total reward for episode {episode+1}: {total_reward}\")"
   ]
  },
  {
   "cell_type": "code",
   "execution_count": 3,
   "id": "8287b32f-f737-4176-b990-9f01da4e0076",
   "metadata": {},
   "outputs": [],
   "source": [
    "env.close()"
   ]
  },
  {
   "cell_type": "code",
   "execution_count": null,
   "id": "bd2bc2e0-aa15-411f-9e63-f677b48eb0ea",
   "metadata": {},
   "outputs": [],
   "source": []
  }
 ],
 "metadata": {
  "kernelspec": {
   "display_name": "gta",
   "language": "python",
   "name": "gta"
  },
  "language_info": {
   "codemirror_mode": {
    "name": "ipython",
    "version": 3
   },
   "file_extension": ".py",
   "mimetype": "text/x-python",
   "name": "python",
   "nbconvert_exporter": "python",
   "pygments_lexer": "ipython3",
   "version": "3.12.4"
  }
 },
 "nbformat": 4,
 "nbformat_minor": 5
}
